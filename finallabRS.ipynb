{
 "cells": [
  {
   "cell_type": "code",
   "execution_count": null,
   "id": "0d1c813a",
   "metadata": {},
   "outputs": [],
   "source": [
    "from astropy.io import fits"
   ]
  },
  {
   "cell_type": "code",
   "execution_count": null,
   "id": "9263f7e8",
   "metadata": {},
   "outputs": [],
   "source": [
    "import matplotlib.pyplot as plt"
   ]
  },
  {
   "cell_type": "code",
   "execution_count": null,
   "id": "1ca9bb2e",
   "metadata": {},
   "outputs": [],
   "source": [
    "def plot_histogram(data, label, title):\n",
    "    plt.hist(data.ravel(), bins=256, color='blue', alpha=0.5, label=label)\n",
    "    plt.xlabel('Pixel Value')\n",
    "    plt.ylabel('Frequency')\n",
    "    plt.title(title)  \n",
    "    plt.grid(True)\n",
    "\n",
    "\n",
    "hdulist_red = fits.open(r\"C:\\Users\\PC\\Desktop\\RemoteAstrophotography-Messier20-FITS\\IT-T31-erikwest-m 20-20200712-013204-Red-BIN2-W-050-001.fit\")\n",
    "hdulist_green = fits.open(r\"C:\\Users\\PC\\Desktop\\RemoteAstrophotography-Messier20-FITS\\IT-T31-erikwest-m 20-20200712-013334-Green-BIN2-W-050-001.fit\")\n",
    "hdulist_blue = fits.open(r\"C:\\Users\\PC\\Desktop\\RemoteAstrophotography-Messier20-FITS\\IT-T31-erikwest-m 20-20200712-013506-Blue-BIN2-W-050-001.fit\")\n",
    "\n",
    "data_red = hdulist_red[0].data\n",
    "data_green = hdulist_green[0].data\n",
    "data_blue = hdulist_blue[0].data\n",
    "\n",
    "plt.figure(figsize=(12, 6))\n",
    "plt.subplot(131)\n",
    "plot_histogram(data_red, 'Red Channel', 'Histogram of Red Channel')\n",
    "plt.subplot(132)\n",
    "plot_histogram(data_green,  'Green Channel', 'Histogram of Green Channel')\n",
    "plt.subplot(133)\n",
    "plot_histogram(data_blue, 'Blue Channel', 'Histogram of Blue Channel')\n",
    "\n",
    "plt.suptitle('Histograms of RGB Channels', fontsize=12)\n",
    "plt.legend()\n",
    "plt.tight_layout(rect=[0, 0, 1, 0.92])\n",
    "plt.show()"
   ]
  },
  {
   "cell_type": "code",
   "execution_count": null,
   "id": "40e92308",
   "metadata": {},
   "outputs": [],
   "source": []
  }
 ],
 "metadata": {
  "kernelspec": {
   "display_name": "Python 3 (ipykernel)",
   "language": "python",
   "name": "python3"
  },
  "language_info": {
   "codemirror_mode": {
    "name": "ipython",
    "version": 3
   },
   "file_extension": ".py",
   "mimetype": "text/x-python",
   "name": "python",
   "nbconvert_exporter": "python",
   "pygments_lexer": "ipython3",
   "version": "3.11.5"
  }
 },
 "nbformat": 4,
 "nbformat_minor": 5
}
